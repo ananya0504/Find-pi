{
  "nbformat": 4,
  "nbformat_minor": 0,
  "metadata": {
    "colab": {
      "name": "Find pi.ipynb",
      "provenance": []
    },
    "kernelspec": {
      "name": "python3",
      "display_name": "Python 3"
    },
    "language_info": {
      "name": "python"
    }
  },
  "cells": [
    {
      "cell_type": "code",
      "execution_count": 1,
      "metadata": {
        "colab": {
          "base_uri": "https://localhost:8080/"
        },
        "id": "Kb1vd6D4p4oj",
        "outputId": "64d370ef-e982-4195-c547-a11bb519614f"
      },
      "outputs": [
        {
          "output_type": "stream",
          "name": "stdout",
          "text": [
            "How many digits of PI would you like to have? : 25\n",
            "\n",
            " 3.1415926535897342076684536\n"
          ]
        }
      ],
      "source": [
        "from math import factorial\n",
        "from decimal import Decimal, getcontext\n",
        "\n",
        "n = int(input('How many digits of PI would you like to have? : '))\n",
        "\n",
        "getcontext().prec=n+1\n",
        "def calc(n):\n",
        "    t= Decimal(0)\n",
        "    pi = Decimal(0)\n",
        "    deno= Decimal(0)\n",
        "    k=0\n",
        "\n",
        "    t=(1)*(factorial(1))*(13591409+545140134*k)\n",
        "    deno = factorial(3*k)*(factorial(k)**3)*(640320**(3*k))\n",
        "    pi += Decimal(t)/Decimal(deno)\n",
        "    pi = pi * Decimal(12) / Decimal(640320 ** Decimal(1.5))\n",
        "    pi = 1/pi\n",
        "    return pi\n",
        "\n",
        "print (\"\\n\", calc(n))"
      ]
    },
    {
      "cell_type": "code",
      "source": [
        ""
      ],
      "metadata": {
        "id": "ts5Gty2Op73P"
      },
      "execution_count": null,
      "outputs": []
    }
  ]
}